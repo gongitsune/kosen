{
  "cells": [
    {
      "cell_type": "markdown",
      "metadata": {
        "id": "HCKOOJGiGn-E"
      },
      "source": [
        "# 辞書型\n",
        "辞書型はディクショナリやdictとも呼ばれ，『キーと値のペア』を１つにまとめて管理できるオブジェクトである．\n",
        "\n",
        "また，キーを元に値を取得することが出来る．\n",
        "\n",
        "まずは，辞書型の使い方を学びましょう．"
      ]
    },
    {
      "cell_type": "markdown",
      "metadata": {
        "id": "wv4rzmJBHpmz"
      },
      "source": [
        "## 辞書型の記述\n",
        "\n",
        "辞書型のオブジェクトを作るためには，次のように波かっこを利用して記述する．\n",
        "\n",
        "```python\n",
        "変数名 = {\"キー名①\":値 ,\"キー名②\":値 }\n",
        "```\n",
        "\n",
        "この時，キーの名前は**文字列と同様**にシングルクオーテーションやダブルクオーテーションで囲む必要がある．  \n",
        "また，値には，数値や文字列などを記述できる．  \n"
      ]
    },
    {
      "cell_type": "code",
      "execution_count": 1,
      "metadata": {
        "id": "vMK4SiwHdU6s"
      },
      "outputs": [
        {
          "name": "stdout",
          "output_type": "stream",
          "text": [
            "{'トマト': 257, 'キャベツ': 198}\n"
          ]
        }
      ],
      "source": [
        "yasai_price = {\"トマト\":257, \"キャベツ\":198}  # 野菜の名前と価格を辞書に登録\n",
        "print(yasai_price)"
      ]
    },
    {
      "cell_type": "markdown",
      "metadata": {
        "id": "dmuAm9dqK-GU"
      },
      "source": [
        "## 値の読み出し\n",
        "また，キーの名前を使って，そのキーの値を取得できます．"
      ]
    },
    {
      "cell_type": "code",
      "execution_count": 2,
      "metadata": {
        "id": "4bEKm_zhK-0k"
      },
      "outputs": [
        {
          "name": "stdout",
          "output_type": "stream",
          "text": [
            "トマトの値段= 257 円\n"
          ]
        }
      ],
      "source": [
        "print(\"トマトの値段=\",yasai_price[\"トマト\"],\"円\")  # トマトの値段を表示"
      ]
    },
    {
      "cell_type": "markdown",
      "metadata": {
        "id": "-LYgsIWELNGr"
      },
      "source": [
        "## 要素の追加と変更\n",
        "辞書型は，ミュータブル(変更可能)なオブジェクトなので要素の追加や変更などが可能です．  \n",
        "要素の追加や変更は次のセルのように行います．"
      ]
    },
    {
      "cell_type": "code",
      "execution_count": 3,
      "metadata": {
        "id": "hDjoi5DxMtgg"
      },
      "outputs": [
        {
          "name": "stdout",
          "output_type": "stream",
          "text": [
            "{'トマト': 257, 'キャベツ': 198, 'ナス': 176}\n",
            "{'トマト': 257, 'キャベツ': 198, 'ナス': 176, 'ピーマン': 98}\n",
            "{'トマト': 198, 'キャベツ': 198, 'ナス': 176, 'ピーマン': 98}\n"
          ]
        }
      ],
      "source": [
        "yasai_price = {\"トマト\":257, \"キャベツ\":198}  # 野菜の名前と価格を辞書に登録\n",
        "\n",
        "# 要素の追加\n",
        "yasai_price[\"ナス\"] = 176\n",
        "print(yasai_price)\n",
        "\n",
        "yasai_price[\"ピーマン\"] = 98\n",
        "print(yasai_price)\n",
        "\n",
        "# 要素の値を変更 (トマトの値段を変更)\n",
        "yasai_price[\"トマト\"] = 198\n",
        "print(yasai_price)"
      ]
    },
    {
      "cell_type": "markdown",
      "metadata": {
        "id": "dGFy6UL6OukS"
      },
      "source": [
        "## 重複したキーの名前を使った場合の動作\n",
        "辞書のキーには重複した名前を利用しないように注意する必要があります．  \n",
        "(重複した名前を記述してもエラーは表示されません)  \n",
        "\n",
        "次のセルでは，トマトというキーの名前が重複して使用されています．  \n",
        "この場合，最後に利用されたトマトのキーが有効になります．  "
      ]
    },
    {
      "cell_type": "code",
      "execution_count": 1,
      "metadata": {
        "id": "NsgZDr5NPKs6"
      },
      "outputs": [
        {
          "name": "stdout",
          "output_type": "stream",
          "text": [
            "{'トマト': 198, 'キャベツ': 198}\n"
          ]
        }
      ],
      "source": [
        "yasai_price = {\"トマト\":257, \"キャベツ\":198, \"トマト\":198}  # 野菜の名前と価格を辞書に登録\n",
        "\n",
        "print(yasai_price)"
      ]
    },
    {
      "cell_type": "markdown",
      "metadata": {
        "id": "rDIBpzrsOPVr"
      },
      "source": [
        "# 辞書型を便利に使うために\n",
        "辞書型のオブジェクトを便利に使うためにいくつかの機能を以下に紹介します．\n",
        "\n"
      ]
    },
    {
      "cell_type": "markdown",
      "metadata": {
        "id": "izVHrB9QQ5IT"
      },
      "source": [
        "### キーの一覧を取得する\n",
        "現在辞書に登録されている，キーの名前の一覧を取得できます．  \n",
        "取得時には，dict_keys()という型で取得できます．この型は，辞書のキーを表している型で，表示でのみ利用できます．\n",
        "\n",
        "一覧を取得した後，その一覧を操作するためにはリストに変換しておくと良いでしょう．"
      ]
    },
    {
      "cell_type": "code",
      "execution_count": 2,
      "metadata": {
        "id": "OZIqrZ4rSh8E"
      },
      "outputs": [
        {
          "name": "stdout",
          "output_type": "stream",
          "text": [
            "dict_keys(['トマト', 'キャベツ', 'ナス'])\n",
            "['トマト', 'キャベツ', 'ナス']\n"
          ]
        }
      ],
      "source": [
        "yasai_price = {\"トマト\":257, \"キャベツ\":198, \"ナス\":176}  # 野菜の名前と価格を辞書に登録\n",
        "\n",
        "print(yasai_price.keys())  # 辞書からキーの一覧を取得\n",
        "\n",
        "yasai_name_list = list(yasai_price.keys())  # list()を使ってリストに変換\n",
        "\n",
        "print(yasai_name_list)"
      ]
    },
    {
      "cell_type": "markdown",
      "metadata": {
        "id": "vpSucUKCTEsz"
      },
      "source": [
        "### 値の一覧を取得する\n",
        "辞書からキーの一覧を取得したように，値の取得も可能です．  \n",
        "また，取得した値の一覧も同様にリストにしておくと便利です．\n",
        "\n",
        "次のセルでは，野菜の価格一覧を取得した後，リストに変換し合計金額を計算しています．"
      ]
    },
    {
      "cell_type": "code",
      "execution_count": 3,
      "metadata": {
        "id": "2WpxnMGRTmxj"
      },
      "outputs": [
        {
          "name": "stdout",
          "output_type": "stream",
          "text": [
            "dict_values([257, 198, 176])\n",
            "[257, 198, 176]\n",
            "631\n"
          ]
        }
      ],
      "source": [
        "yasai_price = {\"トマト\":257, \"キャベツ\":198, \"ナス\":176}  # 野菜の名前と価格を辞書に登録\n",
        "\n",
        "print(yasai_price.values())  # 辞書から値の一覧を取得\n",
        "\n",
        "yasai_price_list = list(yasai_price.values())  # list()を使ってリストに変換\n",
        "\n",
        "print(yasai_price_list)\n",
        "\n",
        "sum_price = sum(yasai_price_list)  # 野菜の価格一覧リストから合計金額をsum()を使って計算\n",
        "\n",
        "print(sum_price)"
      ]
    },
    {
      "cell_type": "markdown",
      "metadata": {
        "id": "m1iJCu7nUmUT"
      },
      "source": [
        "### 辞書からキーを指定して要素を削除する\n",
        "辞書に登録した要素は，キーを指定することで削除できます．"
      ]
    },
    {
      "cell_type": "code",
      "execution_count": 4,
      "metadata": {
        "id": "yjrM88EOU28i"
      },
      "outputs": [
        {
          "name": "stdout",
          "output_type": "stream",
          "text": [
            "削除前>> {'トマト': 257, 'キャベツ': 198, 'ナス': 176}\n",
            "削除後>> {'キャベツ': 198, 'ナス': 176}\n"
          ]
        }
      ],
      "source": [
        "yasai_price = {\"トマト\":257, \"キャベツ\":198, \"ナス\":176}  # 野菜の名前と価格を辞書に登録\n",
        "print(\"削除前>>\",yasai_price)\n",
        "\n",
        "# トマトを辞書から削除\n",
        "del yasai_price[\"トマト\"]\n",
        "print(\"削除後>>\",yasai_price)"
      ]
    },
    {
      "cell_type": "markdown",
      "metadata": {
        "id": "oN3yqOoFVImb"
      },
      "source": [
        "当然ながら,辞書(yasai_price)からはトマトの要素が削除されているため，  \n",
        "次のセルのようにトマトの要素を表示すると，KeyErrorが発生します．"
      ]
    },
    {
      "cell_type": "code",
      "execution_count": 5,
      "metadata": {
        "id": "Oh1MNvaLVaET"
      },
      "outputs": [
        {
          "ename": "KeyError",
          "evalue": "'トマト'",
          "output_type": "error",
          "traceback": [
            "\u001b[0;31m---------------------------------------------------------------------------\u001b[0m",
            "\u001b[0;31mKeyError\u001b[0m                                  Traceback (most recent call last)",
            "Cell \u001b[0;32mIn[5], line 1\u001b[0m\n\u001b[0;32m----> 1\u001b[0m \u001b[38;5;28mprint\u001b[39m(\u001b[43myasai_price\u001b[49m\u001b[43m[\u001b[49m\u001b[38;5;124;43m\"\u001b[39;49m\u001b[38;5;124;43mトマト\u001b[39;49m\u001b[38;5;124;43m\"\u001b[39;49m\u001b[43m]\u001b[49m)\n",
            "\u001b[0;31mKeyError\u001b[0m: 'トマト'"
          ]
        }
      ],
      "source": [
        "print(yasai_price[\"トマト\"])"
      ]
    },
    {
      "cell_type": "markdown",
      "metadata": {
        "id": "YyoQDkzYVmbD"
      },
      "source": [
        "#### 辞書の要素をすべて削除する\n",
        "辞書の要素をすべて削除したい場合には，clear()メソッドを使います．  \n"
      ]
    },
    {
      "cell_type": "code",
      "execution_count": 6,
      "metadata": {
        "id": "MYddX3M8VxbD"
      },
      "outputs": [
        {
          "name": "stdout",
          "output_type": "stream",
          "text": [
            "削除前>> {'トマト': 257, 'キャベツ': 198, 'ナス': 176}\n",
            "全削除後>> {}\n"
          ]
        }
      ],
      "source": [
        "yasai_price = {\"トマト\":257, \"キャベツ\":198, \"ナス\":176}  # 野菜の名前と価格を辞書に登録\n",
        "print(\"削除前>>\",yasai_price)\n",
        "\n",
        "# 辞書から全要素を削除\n",
        "yasai_price.clear()\n",
        "print(\"全削除後>>\",yasai_price)"
      ]
    },
    {
      "cell_type": "markdown",
      "metadata": {
        "id": "6cmsiv3FWcms"
      },
      "source": [
        "当然，辞書は空になっているため，キーを指定して値を取り出すことはできません．"
      ]
    },
    {
      "cell_type": "code",
      "execution_count": 7,
      "metadata": {
        "id": "ngxnI5bQWdGL"
      },
      "outputs": [
        {
          "ename": "KeyError",
          "evalue": "'トマト'",
          "output_type": "error",
          "traceback": [
            "\u001b[0;31m---------------------------------------------------------------------------\u001b[0m",
            "\u001b[0;31mKeyError\u001b[0m                                  Traceback (most recent call last)",
            "Cell \u001b[0;32mIn[7], line 1\u001b[0m\n\u001b[0;32m----> 1\u001b[0m \u001b[38;5;28mprint\u001b[39m(\u001b[43myasai_price\u001b[49m\u001b[43m[\u001b[49m\u001b[38;5;124;43m\"\u001b[39;49m\u001b[38;5;124;43mトマト\u001b[39;49m\u001b[38;5;124;43m\"\u001b[39;49m\u001b[43m]\u001b[49m)\n",
            "\u001b[0;31mKeyError\u001b[0m: 'トマト'"
          ]
        }
      ],
      "source": [
        "print(yasai_price[\"トマト\"])"
      ]
    },
    {
      "cell_type": "markdown",
      "metadata": {
        "id": "DHo8E3QuWhKb"
      },
      "source": [
        "#### キーの検索\n",
        "次のように辞書内にあるキーが登録されているかを調べることもできます．  \n",
        "\n",
        "```python\n",
        "\"キー名\" in 辞書名\n",
        "```\n",
        "\n",
        "※この，『in』はリストでも利用可能です．"
      ]
    },
    {
      "cell_type": "code",
      "execution_count": 8,
      "metadata": {
        "id": "DVhTDZ2mWtTb"
      },
      "outputs": [
        {
          "name": "stdout",
          "output_type": "stream",
          "text": [
            "{'トマト': 257, 'キャベツ': 198, 'ナス': 176}\n",
            "True\n",
            "トマトは辞書に登録されています\n"
          ]
        }
      ],
      "source": [
        "yasai_price = {\"トマト\":257, \"キャベツ\":198, \"ナス\":176}  # 野菜の名前と価格を辞書に登録\n",
        "print(yasai_price)\n",
        "\n",
        "print(\"トマト\" in yasai_price)\n",
        "\n",
        "# 利用例\n",
        "if \"トマト\" in yasai_price:\n",
        "    print(\"トマトは辞書に登録されています\")\n",
        "else:\n",
        "    print(\"トマトは辞書に登録されていません\")"
      ]
    },
    {
      "cell_type": "markdown",
      "metadata": {
        "id": "zfpOenRwMXiu"
      },
      "source": [
        "### リスト→辞書への変換\n",
        "辞書からリストに変換できるように，リストを辞書に変換することもできます．  \n",
        "\n",
        "ここでは，最初に2つのリストをzip()で1つにまとめて，dict()で辞書型のオブジェクトに変換しています．"
      ]
    },
    {
      "cell_type": "code",
      "execution_count": 9,
      "metadata": {
        "id": "pwwGtzsqSWnL"
      },
      "outputs": [
        {
          "name": "stdout",
          "output_type": "stream",
          "text": [
            "{'にんじん': 128, 'カボチャ': 360, '玉ねぎ': 219, 'ジャガイモ': 178}\n"
          ]
        }
      ],
      "source": [
        "yasai_name_new = [\"にんじん\",\"カボチャ\",\"玉ねぎ\",\"ジャガイモ\"]\n",
        "yasai_kakaku_new = [128,360,219,178]\n",
        "\n",
        "yasai_price_new = dict(zip(yasai_name_new,yasai_kakaku_new))# nameはキー名，kakakuは値になる\n",
        "print(yasai_price_new)"
      ]
    },
    {
      "cell_type": "markdown",
      "metadata": {
        "id": "BR1sgkzsX3tL"
      },
      "source": [
        "# 課題1\n",
        "10個の要素を持つ辞書オブジェクトmy_dictを作成しなさい．  \n",
        "要素はなんでも良い．\n",
        "\n"
      ]
    },
    {
      "cell_type": "code",
      "execution_count": 10,
      "metadata": {
        "id": "gRoCDEbmvC1b"
      },
      "outputs": [
        {
          "name": "stdout",
          "output_type": "stream",
          "text": [
            "{'トマト': 132, 'タマネギ': 543, 'カボチャ': 326, 'ナス': 45, 'キュウリ': 98, 'パパイヤ': 653, 'ドリアン': 984, 'リンゴ': 431, 'トウガラシ': 213, 'トウキビ': 432}\n"
          ]
        }
      ],
      "source": [
        "# 課題1\n",
        "my_dict = {\n",
        "  \"トマト\": 132,\n",
        "  \"タマネギ\": 543,\n",
        "  \"カボチャ\": 326,\n",
        "  \"ナス\": 45,\n",
        "  \"キュウリ\": 98,\n",
        "  \"パパイヤ\": 653,\n",
        "  \"ドリアン\": 984,\n",
        "  \"リンゴ\": 431,\n",
        "  \"トウガラシ\": 213,\n",
        "  \"トウキビ\": 432,\n",
        "}\n",
        "\n",
        "print(my_dict)  # 10個の要素があることを確認する"
      ]
    },
    {
      "cell_type": "markdown",
      "metadata": {
        "id": "7R5a6umnvOAp"
      },
      "source": [
        "# 課題2\n",
        "課題1で作成したmy_dictのキー名の一覧と値の一覧を表示しなさい．"
      ]
    },
    {
      "cell_type": "code",
      "execution_count": 16,
      "metadata": {
        "id": "jvAD0N9sw3II"
      },
      "outputs": [
        {
          "name": "stdout",
          "output_type": "stream",
          "text": [
            "キー一覧: ['トマト', 'タマネギ', 'カボチャ', 'ナス', 'キュウリ', 'パパイヤ', 'ドリアン', 'リンゴ', 'トウガラシ', 'トウキビ']\n",
            "値一覧: [132, 543, 326, 45, 98, 653, 984, 431, 213, 432]\n"
          ]
        }
      ],
      "source": [
        "# 課題2\n",
        "key_list = list(my_dict.keys())\n",
        "value_list = list(my_dict.values())\n",
        "\n",
        "print(\"キー一覧:\", key_list)\n",
        "print(\"値一覧:\", value_list)"
      ]
    },
    {
      "cell_type": "markdown",
      "metadata": {
        "id": "H0sPEge-w8Ls"
      },
      "source": [
        "# 課題3\n",
        "課題2で得られたキーの一覧をもとに3番目と6番目（最初の要素は0番目）の要素を削除しなさい．  \n",
        "削除した要素のキーが削除後のmy_dictの中に含まれていないことを『in』を使って確かめなさい．"
      ]
    },
    {
      "cell_type": "code",
      "execution_count": 17,
      "metadata": {
        "id": "zUjlSOaVzPX1"
      },
      "outputs": [
        {
          "name": "stdout",
          "output_type": "stream",
          "text": [
            "{'トマト': 132, 'タマネギ': 543, 'カボチャ': 326, 'キュウリ': 98, 'パパイヤ': 653, 'リンゴ': 431, 'トウガラシ': 213, 'トウキビ': 432}\n",
            "3番目の要素は含まれていません\n",
            "6番目の要素は含まれていません\n"
          ]
        }
      ],
      "source": [
        "# 課題3\n",
        "del my_dict[key_list[3]]\n",
        "del my_dict[key_list[6]]\n",
        "\n",
        "print(my_dict)  # 削除後の辞書の表示\n",
        "\n",
        "if key_list[3] not in my_dict:\n",
        "  print(\"3番目の要素は含まれていません\")\n",
        "if key_list[6] not in my_dict:\n",
        "  print(\"6番目の要素は含まれていません\")"
      ]
    },
    {
      "cell_type": "markdown",
      "metadata": {
        "id": "cwoLzN-7ymfE"
      },
      "source": [
        "# 課題4\n",
        "配布したテキストファイル(RPG.txt)をgoogle Driveのルートディレクトリにアップロードしなさい．  \n",
        "そのファイルを読み込み，『勇者』のステータスをbrave_statusという名前で辞書を作成しなさい．\n",
        "\n",
        "```txt\n",
        "<RPG.txtの内容>\n",
        "キャラ，勇者，賢者，戦士，盗賊\n",
        "HP,650,700,680,560\n",
        "MP,650,800,100,400\n",
        "攻撃力,650,500,800,500\n",
        "防御力,650,580,700,640\n",
        "素早さ,650,700,740,800\n",
        "賢さ,650,800,560,800\n",
        "```\n",
        "＜結果＞  \n",
        "brave_status = {\"キャラ\":\"勇者\",\"HP\":650,\"MP\":650,\"攻撃力\":650,\"防御力\":650,\"素早さ\":650,\"賢さ\":650}\n",
        "\n",
        "\n",
        "＜ヒント＞\n",
        "『キーのリスト』と勇者の『パラメータの値を持つリスト』をあらかじめ作成し，その後dict()とzip()を使って辞書型に変換すれば良い．"
      ]
    },
    {
      "cell_type": "code",
      "execution_count": null,
      "metadata": {
        "id": "t7ApX_lnYmvg"
      },
      "outputs": [],
      "source": [
        "from google.colab import drive  #　GoogleDriveとの接続\n",
        "drive.mount('/content/drive')"
      ]
    },
    {
      "cell_type": "code",
      "execution_count": null,
      "metadata": {
        "id": "W96tgb1RYtqi"
      },
      "outputs": [],
      "source": [
        "# 読み取るファイルの場所\n",
        "path = '/content/drive/MyDrive/RPG.txt'  # /content/drive/MyDrive/ がGoogle Driveのルートディレクトリ\n"
      ]
    },
    {
      "cell_type": "code",
      "execution_count": null,
      "metadata": {
        "id": "PM28luCEZid6"
      },
      "outputs": [],
      "source": [
        "# 課題4\n",
        "\n",
        "# まず，RPG.txtを読み込む　(参照9週目)\n",
        "f = open(path, 'r')  # openを使ってpathで指定したファイルを読み込みモードで開く\n",
        "s = f.readlines()  # ファイルから読み込んだ内容をsに代入（1行目）\n",
        "print(s)\n",
        "\n",
        "#　空のキーのリストとパラメータの値を持つリストを作成\n",
        "# このリストにキーの名前や勇者のパラメータを追加していく\n",
        "key_list = []\n",
        "para_list = []\n",
        "\n",
        "#　まずはkey_listを完成させる\n",
        "# readlinesでとってきた文字列はリストの要素になっている\n",
        "# 各要素の先頭にキーが入っている\n",
        "# →文字列を分割してリストに変換,0番目の要素をキーとしてkey_listへ追加\n",
        "for i in range(len(s)):\n",
        "    tmp_str =str(s[i])  #　i番目のリスト要素を文字列に変換\n",
        "    tmp_str =tmp_str.strip(\"\\n\")  #　改行\"\\n\"を削除\n",
        "    tmp_list =tmp_str.split(\",\")   # \",\"で分割\n",
        "    key_list.append(tmp_list[0])  # 0番目の要素をkey_listへ追加\n",
        "    print(tmp_list)  #　key_listを表示して確認する\n",
        "print(key_list)\n",
        "\n",
        "# 次にpara_listを完成させる\n",
        "\n",
        "\n",
        "# print(para_list)  #　para_listを表示して確認する\n",
        "\n",
        "# 辞書brave_statusの作成\n",
        "\n",
        "f.close()  # 最後はcloseでファイルを閉じる必要あり\n",
        "# print(brave_status)  #　辞書brave_statusを表示して確認する\n"
      ]
    },
    {
      "cell_type": "code",
      "execution_count": null,
      "metadata": {
        "id": "H8etrNL_-0j0"
      },
      "outputs": [],
      "source": []
    }
  ],
  "metadata": {
    "colab": {
      "provenance": []
    },
    "kernelspec": {
      "display_name": "Python 3",
      "name": "python3"
    },
    "language_info": {
      "codemirror_mode": {
        "name": "ipython",
        "version": 3
      },
      "file_extension": ".py",
      "mimetype": "text/x-python",
      "name": "python",
      "nbconvert_exporter": "python",
      "pygments_lexer": "ipython3",
      "version": "3.12.4"
    }
  },
  "nbformat": 4,
  "nbformat_minor": 0
}
